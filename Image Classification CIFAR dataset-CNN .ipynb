{
 "cells": [
  {
   "cell_type": "code",
   "execution_count": 1,
   "id": "403c12f0",
   "metadata": {},
   "outputs": [],
   "source": [
    "import pandas as pd\n",
    "import numpy as np\n",
    "import matplotlib.pyplot as plt"
   ]
  },
  {
   "cell_type": "code",
   "execution_count": 2,
   "id": "3efab7e0",
   "metadata": {},
   "outputs": [],
   "source": [
    "import tensorflow"
   ]
  },
  {
   "cell_type": "code",
   "execution_count": 3,
   "id": "0061346e",
   "metadata": {},
   "outputs": [],
   "source": [
    "from tensorflow.keras import datasets,layers,models"
   ]
  },
  {
   "cell_type": "code",
   "execution_count": 4,
   "id": "e55d45c2",
   "metadata": {},
   "outputs": [],
   "source": [
    "(x_train,y_train),(x_test,y_test)=datasets.cifar10.load_data()"
   ]
  },
  {
   "cell_type": "code",
   "execution_count": 5,
   "id": "10f6c488",
   "metadata": {},
   "outputs": [
    {
     "data": {
      "text/plain": [
       "(50000, 32, 32, 3)"
      ]
     },
     "execution_count": 5,
     "metadata": {},
     "output_type": "execute_result"
    }
   ],
   "source": [
    "x_train.shape"
   ]
  },
  {
   "cell_type": "code",
   "execution_count": 6,
   "id": "9897d3ff",
   "metadata": {},
   "outputs": [
    {
     "data": {
      "text/plain": [
       "(10000, 32, 32, 3)"
      ]
     },
     "execution_count": 6,
     "metadata": {},
     "output_type": "execute_result"
    }
   ],
   "source": [
    "x_test.shape"
   ]
  },
  {
   "cell_type": "markdown",
   "id": "3c95c84a",
   "metadata": {},
   "source": [
    "# Visualitization of the CIFAR dataset "
   ]
  },
  {
   "cell_type": "code",
   "execution_count": 7,
   "id": "36992319",
   "metadata": {},
   "outputs": [
    {
     "data": {
      "text/plain": [
       "<matplotlib.image.AxesImage at 0x29444915550>"
      ]
     },
     "execution_count": 7,
     "metadata": {},
     "output_type": "execute_result"
    },
    {
     "data": {
      "image/png": "[encoded data removed]",
      "text/plain": [
       "<Figure size 1800x720 with 1 Axes>"
      ]
     },
     "metadata": {
      "needs_background": "light"
     },
     "output_type": "display_data"
    }
   ],
   "source": [
    "plt.figure(figsize=(25,10))\n",
    "plt.imshow(x_train[5])"
   ]
  },
  {
   "cell_type": "code",
   "execution_count": 8,
   "id": "5bf5baa1",
   "metadata": {},
   "outputs": [
    {
     "data": {
      "text/plain": [
       "array([[6],\n",
       "       [9],\n",
       "       [9],\n",
       "       [4],\n",
       "       [1]], dtype=uint8)"
      ]
     },
     "execution_count": 8,
     "metadata": {},
     "output_type": "execute_result"
    }
   ],
   "source": [
    "y_train[:5]"
   ]
  },
  {
   "cell_type": "code",
   "execution_count": 9,
   "id": "86bc7bf2",
   "metadata": {},
   "outputs": [
    {
     "data": {
      "text/plain": [
       "array([[6],\n",
       "       [9],\n",
       "       [9],\n",
       "       [4],\n",
       "       [1]], dtype=uint8)"
      ]
     },
     "execution_count": 9,
     "metadata": {},
     "output_type": "execute_result"
    }
   ],
   "source": [
    "y_train[:5]"
   ]
  },
  {
   "cell_type": "code",
   "execution_count": 10,
   "id": "b9c9df22",
   "metadata": {},
   "outputs": [
    {
     "data": {
      "text/plain": [
       "array([6, 9, 9, 4, 1], dtype=uint8)"
      ]
     },
     "execution_count": 10,
     "metadata": {},
     "output_type": "execute_result"
    }
   ],
   "source": [
    "y_train=y_train.reshape(-1,)\n",
    "y_train[:5]"
   ]
  },
  {
   "cell_type": "code",
   "execution_count": 11,
   "id": "bc2cd946",
   "metadata": {},
   "outputs": [],
   "source": [
    "y_test = y_test.reshape(-1,)"
   ]
  },
  {
   "cell_type": "code",
   "execution_count": 12,
   "id": "07bdff47",
   "metadata": {},
   "outputs": [],
   "source": [
    "#Providing names to the images\n",
    "classes=[\"airplane\",\"automobile\",\"bird\",\"cat\",\"deer\",\"dog\",\"frog\",\"horse\",\"ship\",\"truck\"]"
   ]
  },
  {
   "cell_type": "code",
   "execution_count": 13,
   "id": "7db92815",
   "metadata": {},
   "outputs": [],
   "source": [
    "def plot_img(x, y, index):\n",
    "    plt.figure(figsize = (15,2))\n",
    "    plt.imshow(x[index])\n",
    "    plt.xlabel(classes[y[index]])"
   ]
  },
  {
   "cell_type": "code",
   "execution_count": 14,
   "id": "957c3822",
   "metadata": {},
   "outputs": [
    {
     "data": {
      "image/png": "[encoded data removed]",
      "text/plain": [
       "<Figure size 1080x144 with 1 Axes>"
      ]
     },
     "metadata": {
      "needs_background": "light"
     },
     "output_type": "display_data"
    }
   ],
   "source": [
    "plot_img(x_train,y_train,5)"
   ]
  },
  {
   "cell_type": "code",
   "execution_count": 15,
   "id": "df8d0f11",
   "metadata": {},
   "outputs": [
    {
     "data": {
      "text/plain": [
       "array([[[ 59,  62,  63],\n",
       "        [ 43,  46,  45],\n",
       "        [ 50,  48,  43],\n",
       "        ...,\n",
       "        [158, 132, 108],\n",
       "        [152, 125, 102],\n",
       "        [148, 124, 103]],\n",
       "\n",
       "       [[ 16,  20,  20],\n",
       "        [  0,   0,   0],\n",
       "        [ 18,   8,   0],\n",
       "        ...,\n",
       "        [123,  88,  55],\n",
       "        [119,  83,  50],\n",
       "        [122,  87,  57]],\n",
       "\n",
       "       [[ 25,  24,  21],\n",
       "        [ 16,   7,   0],\n",
       "        [ 49,  27,   8],\n",
       "        ...,\n",
       "        [118,  84,  50],\n",
       "        [120,  84,  50],\n",
       "        [109,  73,  42]],\n",
       "\n",
       "       ...,\n",
       "\n",
       "       [[208, 170,  96],\n",
       "        [201, 153,  34],\n",
       "        [198, 161,  26],\n",
       "        ...,\n",
       "        [160, 133,  70],\n",
       "        [ 56,  31,   7],\n",
       "        [ 53,  34,  20]],\n",
       "\n",
       "       [[180, 139,  96],\n",
       "        [173, 123,  42],\n",
       "        [186, 144,  30],\n",
       "        ...,\n",
       "        [184, 148,  94],\n",
       "        [ 97,  62,  34],\n",
       "        [ 83,  53,  34]],\n",
       "\n",
       "       [[177, 144, 116],\n",
       "        [168, 129,  94],\n",
       "        [179, 142,  87],\n",
       "        ...,\n",
       "        [216, 184, 140],\n",
       "        [151, 118,  84],\n",
       "        [123,  92,  72]]], dtype=uint8)"
      ]
     },
     "execution_count": 15,
     "metadata": {},
     "output_type": "execute_result"
    }
   ],
   "source": [
    "x_train[0]"
   ]
  },
  {
   "cell_type": "code",
   "execution_count": 16,
   "id": "1374db43",
   "metadata": {},
   "outputs": [
    {
     "data": {
      "image/png": "[encoded data removed]",
      "text/plain": [
       "<Figure size 1080x144 with 1 Axes>"
      ]
     },
     "metadata": {
      "needs_background": "light"
     },
     "output_type": "display_data"
    }
   ],
   "source": [
    "plot_img(x_train, y_train, 1)"
   ]
  },
  {
   "cell_type": "code",
   "execution_count": 28,
   "id": "14ecd717",
   "metadata": {},
   "outputs": [
    {
     "name": "stdout",
     "output_type": "stream",
     "text": [
      "[[[[0.00090734 0.00095348 0.00096886]\n",
      "   [0.00066128 0.00070742 0.00069204]\n",
      "   [0.00076894 0.00073818 0.00066128]\n",
      "   ...\n",
      "   [0.00242983 0.00202999 0.0016609 ]\n",
      "   [0.00233756 0.00192234 0.00156863]\n",
      "   [0.00227605 0.00190696 0.00158401]]\n",
      "\n",
      "  [[0.00024606 0.00030757 0.00030757]\n",
      "   [0.         0.         0.        ]\n",
      "   [0.00027682 0.00012303 0.        ]\n",
      "   ...\n",
      "   [0.00189158 0.00135333 0.00084583]\n",
      "   [0.00183007 0.00127643 0.00076894]\n",
      "   [0.0018762  0.00133795 0.00087659]]\n",
      "\n",
      "  [[0.00038447 0.00036909 0.00032295]\n",
      "   [0.00024606 0.00010765 0.        ]\n",
      "   [0.00075356 0.00041522 0.00012303]\n",
      "   ...\n",
      "   [0.00181469 0.00129181 0.00076894]\n",
      "   [0.00184544 0.00129181 0.00076894]\n",
      "   [0.00167628 0.00112265 0.00064591]]\n",
      "\n",
      "  ...\n",
      "\n",
      "  [[0.00319877 0.00261438 0.00147636]\n",
      "   [0.00309112 0.00235294 0.00052288]\n",
      "   [0.00304498 0.00247597 0.00039985]\n",
      "   ...\n",
      "   [0.00246059 0.00204537 0.00107651]\n",
      "   [0.00086121 0.00047674 0.00010765]\n",
      "   [0.00081507 0.00052288 0.00030757]]\n",
      "\n",
      "  [[0.00276817 0.00213764 0.00147636]\n",
      "   [0.00266052 0.00189158 0.00064591]\n",
      "   [0.00286044 0.00221453 0.00046136]\n",
      "   ...\n",
      "   [0.00282968 0.00227605 0.0014456 ]\n",
      "   [0.00149173 0.00095348 0.00052288]\n",
      "   [0.00127643 0.00081507 0.00052288]]\n",
      "\n",
      "  [[0.00272203 0.00221453 0.00178393]\n",
      "   [0.00258362 0.00198385 0.0014456 ]\n",
      "   [0.00275279 0.00218378 0.00133795]\n",
      "   ...\n",
      "   [0.0033218  0.00282968 0.00215302]\n",
      "   [0.00232218 0.00181469 0.00129181]\n",
      "   [0.00189158 0.00141484 0.00110727]]]\n",
      "\n",
      "\n",
      " [[[0.00236832 0.00272203 0.00287582]\n",
      "   [0.00193772 0.00210688 0.0020915 ]\n",
      "   [0.00161476 0.00159938 0.00146098]\n",
      "   ...\n",
      "   [0.00139946 0.00146098 0.00109189]\n",
      "   [0.00133795 0.00138408 0.00109189]\n",
      "   [0.00121492 0.00124567 0.00107651]]\n",
      "\n",
      "  [[0.00215302 0.00246059 0.002599  ]\n",
      "   [0.00222991 0.00235294 0.00236832]\n",
      "   [0.00192234 0.00192234 0.00181469]\n",
      "   ...\n",
      "   [0.00147636 0.00152249 0.00119954]\n",
      "   [0.00118416 0.0012303  0.00095348]\n",
      "   [0.00109189 0.00112265 0.0009381 ]]\n",
      "\n",
      "  [[0.00215302 0.0023837  0.00252211]\n",
      "   [0.00213764 0.00224529 0.00229143]\n",
      "   [0.00176855 0.00176855 0.00172241]\n",
      "   ...\n",
      "   [0.00121492 0.00126105 0.00098424]\n",
      "   [0.00104575 0.00107651 0.00084583]\n",
      "   [0.00103037 0.00106113 0.00084583]]\n",
      "\n",
      "  ...\n",
      "\n",
      "  [[0.00269127 0.00256824 0.00255286]\n",
      "   [0.00239908 0.00236832 0.00246059]\n",
      "   [0.00236832 0.00246059 0.00261438]\n",
      "   ...\n",
      "   [0.00064591 0.00052288 0.00055363]\n",
      "   [0.0009381  0.00081507 0.00087659]\n",
      "   [0.00143022 0.00127643 0.00139946]]\n",
      "\n",
      "  [[0.00253749 0.00236832 0.00196847]\n",
      "   [0.00239908 0.00233756 0.00199923]\n",
      "   [0.00244521 0.00247597 0.00218378]\n",
      "   ...\n",
      "   [0.00158401 0.00143022 0.00147636]\n",
      "   [0.00189158 0.00175317 0.00184544]\n",
      "   [0.00201461 0.00186082 0.00201461]]\n",
      "\n",
      "  [[0.00250673 0.00227605 0.00184544]\n",
      "   [0.00242983 0.00227605 0.0018762 ]\n",
      "   [0.00250673 0.00239908 0.00204537]\n",
      "   ...\n",
      "   [0.00219915 0.00204537 0.00213764]\n",
      "   [0.00219915 0.00206075 0.00218378]\n",
      "   [0.00219915 0.00204537 0.00221453]]]\n",
      "\n",
      "\n",
      " [[[0.00392157 0.00392157 0.00392157]\n",
      "   [0.00389081 0.00389081 0.00389081]\n",
      "   [0.00389081 0.00389081 0.00389081]\n",
      "   ...\n",
      "   [0.00389081 0.00389081 0.00389081]\n",
      "   [0.00389081 0.00389081 0.00389081]\n",
      "   [0.00389081 0.00389081 0.00389081]]\n",
      "\n",
      "  [[0.00392157 0.00392157 0.00392157]\n",
      "   [0.00392157 0.00392157 0.00392157]\n",
      "   [0.00392157 0.00392157 0.00392157]\n",
      "   ...\n",
      "   [0.00392157 0.00392157 0.00392157]\n",
      "   [0.00392157 0.00392157 0.00392157]\n",
      "   [0.00392157 0.00392157 0.00392157]]\n",
      "\n",
      "  [[0.00392157 0.00392157 0.00392157]\n",
      "   [0.00390619 0.00390619 0.00390619]\n",
      "   [0.00390619 0.00390619 0.00390619]\n",
      "   ...\n",
      "   [0.00390619 0.00390619 0.00390619]\n",
      "   [0.00390619 0.00390619 0.00390619]\n",
      "   [0.00390619 0.00390619 0.00390619]]\n",
      "\n",
      "  ...\n",
      "\n",
      "  [[0.00173779 0.00184544 0.00172241]\n",
      "   [0.00170704 0.00181469 0.00170704]\n",
      "   [0.00161476 0.00172241 0.00163014]\n",
      "   ...\n",
      "   [0.00110727 0.00124567 0.0012303 ]\n",
      "   [0.00110727 0.0012303  0.00121492]\n",
      "   [0.00110727 0.0012303  0.00121492]]\n",
      "\n",
      "  [[0.00170704 0.00181469 0.00169166]\n",
      "   [0.00159938 0.00170704 0.00159938]\n",
      "   [0.00152249 0.00163014 0.00150711]\n",
      "   ...\n",
      "   [0.00104575 0.0011534  0.00112265]\n",
      "   [0.00107651 0.00116878 0.0011534 ]\n",
      "   [0.00119954 0.00129181 0.00126105]]\n",
      "\n",
      "  [[0.00163014 0.00173779 0.00161476]\n",
      "   [0.00152249 0.00163014 0.00150711]\n",
      "   [0.00146098 0.00156863 0.0014456 ]\n",
      "   ...\n",
      "   [0.00119954 0.00130719 0.00127643]\n",
      "   [0.00121492 0.00130719 0.00127643]\n",
      "   [0.0012303  0.00132257 0.00129181]]]\n",
      "\n",
      "\n",
      " ...\n",
      "\n",
      "\n",
      " [[[0.00053825 0.00273741 0.00361399]\n",
      "   [0.00061515 0.00270665 0.00367551]\n",
      "   [0.00064591 0.00270665 0.00370627]\n",
      "   ...\n",
      "   [0.00152249 0.00272203 0.00336794]\n",
      "   [0.00121492 0.00226067 0.0030296 ]\n",
      "   [0.0013687  0.00227605 0.00290657]]\n",
      "\n",
      "  [[0.00087659 0.00279892 0.00359862]\n",
      "   [0.00067666 0.00282968 0.00384468]\n",
      "   [0.00076894 0.0028143  0.00369089]\n",
      "   ...\n",
      "   [0.00239908 0.00279892 0.00307574]\n",
      "   [0.0021684  0.00272203 0.00316801]\n",
      "   [0.00178393 0.00229143 0.00269127]]\n",
      "\n",
      "  [[0.00150711 0.0030296  0.00364475]\n",
      "   [0.00098424 0.00290657 0.00387543]\n",
      "   [0.00106113 0.00295271 0.00376778]\n",
      "   ...\n",
      "   [0.0028912  0.00299885 0.00316801]\n",
      "   [0.00183007 0.00207612 0.00226067]\n",
      "   [0.0009381  0.00121492 0.00138408]]\n",
      "\n",
      "  ...\n",
      "\n",
      "  [[0.00112265 0.00121492 0.00118416]\n",
      "   [0.00081507 0.00096886 0.00104575]\n",
      "   [0.00083045 0.00104575 0.0012303 ]\n",
      "   ...\n",
      "   [0.00026144 0.00061515 0.00098424]\n",
      "   [0.00032295 0.00055363 0.00078431]\n",
      "   [0.0005075  0.00073818 0.00075356]]\n",
      "\n",
      "  [[0.0009381  0.00104575 0.0011534 ]\n",
      "   [0.00084583 0.00107651 0.00132257]\n",
      "   [0.00087659 0.00121492 0.00158401]\n",
      "   ...\n",
      "   [0.00036909 0.00073818 0.00110727]\n",
      "   [0.00026144 0.00053825 0.00081507]\n",
      "   [0.00010765 0.00035371 0.00049212]]\n",
      "\n",
      "  [[0.00067666 0.00086121 0.00112265]\n",
      "   [0.00070742 0.00101499 0.00135333]\n",
      "   [0.00075356 0.00118416 0.00161476]\n",
      "   ...\n",
      "   [0.00041522 0.00079969 0.00118416]\n",
      "   [0.00032295 0.00066128 0.00101499]\n",
      "   [0.00018454 0.00047674 0.00076894]]]\n",
      "\n",
      "\n",
      " [[[0.00290657 0.00324491 0.00369089]\n",
      "   [0.00286044 0.00319877 0.00362937]\n",
      "   [0.00284506 0.00318339 0.00361399]\n",
      "   ...\n",
      "   [0.00269127 0.00299885 0.00344483]\n",
      "   [0.00264514 0.00298347 0.00341407]\n",
      "   [0.002599   0.00298347 0.00338331]]\n",
      "\n",
      "  [[0.00298347 0.00322953 0.00367551]\n",
      "   [0.00293733 0.00318339 0.00362937]\n",
      "   [0.00292195 0.00316801 0.00361399]\n",
      "   ...\n",
      "   [0.00266052 0.00295271 0.00338331]\n",
      "   [0.00262976 0.00293733 0.00335256]\n",
      "   [0.00256824 0.00292195 0.0033218 ]]\n",
      "\n",
      "  [[0.00319877 0.00336794 0.0037524 ]\n",
      "   [0.00315263 0.0033218  0.00369089]\n",
      "   [0.00313725 0.00330642 0.00367551]\n",
      "   ...\n",
      "   [0.00269127 0.00293733 0.00333718]\n",
      "   [0.00264514 0.00292195 0.0033218 ]\n",
      "   [0.002599   0.00293733 0.00330642]]\n",
      "\n",
      "  ...\n",
      "\n",
      "  [[0.00318339 0.00306036 0.00278354]\n",
      "   [0.00312188 0.00299885 0.00269127]\n",
      "   [0.00312188 0.00301423 0.00266052]\n",
      "   ...\n",
      "   [0.00207612 0.00202999 0.00195309]\n",
      "   [0.00249135 0.00242983 0.00230681]\n",
      "   [0.00258362 0.00250673 0.00232218]]\n",
      "\n",
      "  [[0.00304498 0.00292195 0.00261438]\n",
      "   [0.00290657 0.00278354 0.00244521]\n",
      "   [0.00276817 0.00264514 0.00226067]\n",
      "   ...\n",
      "   [0.00273741 0.00262976 0.00246059]\n",
      "   [0.00269127 0.002599   0.00239908]\n",
      "   [0.00269127 0.002599   0.00236832]]\n",
      "\n",
      "  [[0.00304498 0.00290657 0.00266052]\n",
      "   [0.00290657 0.00278354 0.00249135]\n",
      "   [0.00273741 0.00261438 0.00229143]\n",
      "   ...\n",
      "   [0.00299885 0.00282968 0.002599  ]\n",
      "   [0.00301423 0.00290657 0.00262976]\n",
      "   [0.00299885 0.00292195 0.00262976]]]\n",
      "\n",
      "\n",
      " [[[0.00352172 0.00352172 0.00367551]\n",
      "   [0.00362937 0.00364475 0.00379854]\n",
      "   [0.00359862 0.00362937 0.00379854]\n",
      "   ...\n",
      "   [0.00333718 0.00336794 0.00358324]\n",
      "   [0.00339869 0.00342945 0.00359862]\n",
      "   [0.00341407 0.00342945 0.00358324]]\n",
      "\n",
      "  [[0.00341407 0.00339869 0.00352172]\n",
      "   [0.00367551 0.00367551 0.0038293 ]\n",
      "   [0.00358324 0.00359862 0.00378316]\n",
      "   ...\n",
      "   [0.00342945 0.00342945 0.00362937]\n",
      "   [0.00349097 0.00350634 0.00366013]\n",
      "   [0.00322953 0.00324491 0.00338331]]\n",
      "\n",
      "  [[0.00327566 0.00316801 0.00324491]\n",
      "   [0.00359862 0.00356786 0.00367551]\n",
      "   [0.00355248 0.00358324 0.0037524 ]\n",
      "   ...\n",
      "   [0.00338331 0.00338331 0.00356786]\n",
      "   [0.00338331 0.00336794 0.00356786]\n",
      "   [0.0031065  0.00312188 0.00330642]]\n",
      "\n",
      "  ...\n",
      "\n",
      "  [[0.00230681 0.00219915 0.00207612]\n",
      "   [0.00215302 0.00207612 0.00195309]\n",
      "   [0.00202999 0.00195309 0.00184544]\n",
      "   ...\n",
      "   [0.00344483 0.00341407 0.00335256]\n",
      "   [0.0035371  0.00350634 0.00346021]\n",
      "   [0.00370627 0.00370627 0.00366013]]\n",
      "\n",
      "  [[0.00210688 0.00202999 0.00193772]\n",
      "   [0.00199923 0.00195309 0.00184544]\n",
      "   [0.00192234 0.00186082 0.00176855]\n",
      "   ...\n",
      "   [0.00278354 0.00276817 0.00273741]\n",
      "   [0.0031065  0.00309112 0.00304498]\n",
      "   [0.00326028 0.00324491 0.00318339]]\n",
      "\n",
      "  [[0.0018762  0.00183007 0.00175317]\n",
      "   [0.00181469 0.00178393 0.00169166]\n",
      "   [0.00184544 0.00178393 0.00170704]\n",
      "   ...\n",
      "   [0.00275279 0.00272203 0.00266052]\n",
      "   [0.00252211 0.00252211 0.00249135]\n",
      "   [0.00250673 0.00250673 0.00247597]]]]\n"
     ]
    }
   ],
   "source": [
    "#Normalizing the values\n",
    "x_train=x_train/255\n",
    "x_test=x_test/255\n",
    "print(x_train)"
   ]
  },
  {
   "cell_type": "markdown",
   "id": "de159060",
   "metadata": {},
   "source": [
    "#Developing the CNN model"
   ]
  },
  {
   "cell_type": "code",
   "execution_count": 29,
   "id": "0ac112e2",
   "metadata": {},
   "outputs": [
    {
     "name": "stdout",
     "output_type": "stream",
     "text": [
      "<keras.engine.sequential.Sequential object at 0x000002944300CD00>\n"
     ]
    }
   ],
   "source": [
    "cnn = models.Sequential([\n",
    "    layers.Conv2D(filters=32, kernel_size=(3, 3), activation='relu', input_shape=(32, 32, 3)),\n",
    "    layers.MaxPooling2D((2, 2)),\n",
    "    \n",
    "    layers.Conv2D(filters=64, kernel_size=(3, 3), activation='relu'),\n",
    "    layers.MaxPooling2D((2, 2)),\n",
    "    \n",
    "    layers.Flatten(),\n",
    "    layers.Dense(64, activation='relu'),\n",
    "    layers.Dense(10, activation='softmax')\n",
    "])\n",
    "\n",
    "print(cnn)"
   ]
  },
  {
   "cell_type": "code",
   "execution_count": 19,
   "id": "281339f2",
   "metadata": {},
   "outputs": [],
   "source": [
    "cnn.compile(optimizer='adam',\n",
    "              loss='sparse_categorical_crossentropy',\n",
    "              metrics=['accuracy'])"
   ]
  },
  {
   "cell_type": "code",
   "execution_count": 20,
   "id": "b3e5546c",
   "metadata": {},
   "outputs": [
    {
     "name": "stdout",
     "output_type": "stream",
     "text": [
      "Epoch 1/10\n",
      "1563/1563 [==============================] - 54s 34ms/step - loss: 1.4479 - accuracy: 0.48390s - loss: 1.4488 - accura\n",
      "Epoch 2/10\n",
      "1563/1563 [==============================] - 55s 35ms/step - loss: 1.0855 - accuracy: 0.6214\n",
      "Epoch 3/10\n",
      "1563/1563 [==============================] - 51s 33ms/step - loss: 0.9593 - accuracy: 0.6665\n",
      "Epoch 4/10\n",
      "1563/1563 [==============================] - 50s 32ms/step - loss: 0.8716 - accuracy: 0.6955\n",
      "Epoch 5/10\n",
      "1563/1563 [==============================] - 53s 34ms/step - loss: 0.8053 - accuracy: 0.7192\n",
      "Epoch 6/10\n",
      "1563/1563 [==============================] - 51s 33ms/step - loss: 0.7443 - accuracy: 0.7383\n",
      "Epoch 7/10\n",
      "1563/1563 [==============================] - 52s 33ms/step - loss: 0.6922 - accuracy: 0.7603\n",
      "Epoch 8/10\n",
      "1563/1563 [==============================] - 51s 32ms/step - loss: 0.6414 - accuracy: 0.7758\n",
      "Epoch 9/10\n",
      "1563/1563 [==============================] - 51s 32ms/step - loss: 0.6036 - accuracy: 0.7873\n",
      "Epoch 10/10\n",
      "1563/1563 [==============================] - 51s 33ms/step - loss: 0.5583 - accuracy: 0.8042\n"
     ]
    },
    {
     "data": {
      "text/plain": [
       "<keras.callbacks.History at 0x29442d08df0>"
      ]
     },
     "execution_count": 20,
     "metadata": {},
     "output_type": "execute_result"
    }
   ],
   "source": [
    "cnn.fit(x_train, y_train, epochs=10)"
   ]
  },
  {
   "cell_type": "code",
   "execution_count": 21,
   "id": "023946a6",
   "metadata": {},
   "outputs": [
    {
     "name": "stdout",
     "output_type": "stream",
     "text": [
      "313/313 [==============================] - 4s 11ms/step - loss: 0.9687 - accuracy: 0.6969\n"
     ]
    },
    {
     "data": {
      "text/plain": [
       "[0.9687082171440125, 0.6969000101089478]"
      ]
     },
     "execution_count": 21,
     "metadata": {},
     "output_type": "execute_result"
    }
   ],
   "source": [
    "cnn.evaluate(x_test,y_test)"
   ]
  },
  {
   "cell_type": "code",
   "execution_count": 22,
   "id": "ebfc3cca",
   "metadata": {},
   "outputs": [
    {
     "data": {
      "text/plain": [
       "array([[4.36108821e-05, 4.92789832e-06, 1.77235238e-03, 9.26762283e-01,\n",
       "        1.55163492e-04, 7.01548979e-02, 1.05598803e-04, 2.08751706e-04,\n",
       "        1.98526614e-04, 5.93787991e-04],\n",
       "       [2.83275614e-03, 7.90378153e-02, 2.51462893e-07, 1.06108371e-06,\n",
       "        2.25933796e-08, 2.13736477e-08, 3.47146478e-11, 8.20204182e-10,\n",
       "        9.17277992e-01, 8.50055018e-04],\n",
       "       [1.80979948e-02, 1.10769197e-01, 2.54513277e-03, 4.19440120e-02,\n",
       "        6.47449982e-04, 8.83664645e-04, 1.95318120e-04, 1.89325248e-03,\n",
       "        7.57726908e-01, 6.52971119e-02],\n",
       "       [7.70873249e-01, 5.78553695e-03, 8.47357046e-03, 2.76854541e-03,\n",
       "        2.50970502e-03, 2.11175648e-04, 1.35963683e-05, 8.22007496e-06,\n",
       "        2.09160790e-01, 1.95646877e-04],\n",
       "       [6.64157085e-07, 1.09563407e-03, 2.23436989e-02, 2.55023867e-01,\n",
       "        1.13842346e-01, 1.68434177e-02, 5.90559840e-01, 9.52607588e-05,\n",
       "        9.73589558e-05, 9.78691896e-05]], dtype=float32)"
      ]
     },
     "execution_count": 22,
     "metadata": {},
     "output_type": "execute_result"
    }
   ],
   "source": [
    "y_pred = cnn.predict(x_test)\n",
    "y_pred[:5]"
   ]
  },
  {
   "cell_type": "code",
   "execution_count": 23,
   "id": "e0564604",
   "metadata": {},
   "outputs": [
    {
     "data": {
      "text/plain": [
       "[3, 8, 8, 0, 6]"
      ]
     },
     "execution_count": 23,
     "metadata": {},
     "output_type": "execute_result"
    }
   ],
   "source": [
    "y_classes = [np.argmax(element) for element in y_pred]\n",
    "y_classes[:5]"
   ]
  },
  {
   "cell_type": "code",
   "execution_count": 24,
   "id": "25c52109",
   "metadata": {},
   "outputs": [
    {
     "data": {
      "image/png": "[encoded data removed]",
      "text/plain": [
       "<Figure size 1080x144 with 1 Axes>"
      ]
     },
     "metadata": {
      "needs_background": "light"
     },
     "output_type": "display_data"
    }
   ],
   "source": [
    "plot_img(x_test, y_test,15)"
   ]
  },
  {
   "cell_type": "code",
   "execution_count": 25,
   "id": "173eaea2",
   "metadata": {},
   "outputs": [],
   "source": [
    "from keras.models import load_model\n",
    "from keras.models import Model\n"
   ]
  },
  {
   "cell_type": "code",
   "execution_count": 27,
   "id": "b5a25729",
   "metadata": {},
   "outputs": [],
   "source": [
    "cnn.save(\"Image Classification-CNN.h5\")"
   ]
  },
  {
   "cell_type": "code",
   "execution_count": null,
   "id": "28784099",
   "metadata": {},
   "outputs": [],
   "source": []
  }
 ],
 "metadata": {
  "kernelspec": {
   "display_name": "Python 3",
   "language": "python",
   "name": "python3"
  },
  "language_info": {
   "codemirror_mode": {
    "name": "ipython",
    "version": 3
   },
   "file_extension": ".py",
   "mimetype": "text/x-python",
   "name": "python",
   "nbconvert_exporter": "python",
   "pygments_lexer": "ipython3",
   "version": "3.8.8"
  }
 },
 "nbformat": 4,
 "nbformat_minor": 5
}
